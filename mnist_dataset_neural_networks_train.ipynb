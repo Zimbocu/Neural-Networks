{
  "nbformat": 4,
  "nbformat_minor": 0,
  "metadata": {
    "colab": {
      "provenance": [],
      "authorship_tag": "ABX9TyPQXxvBkqZvihZaU8f6m8kU",
      "include_colab_link": true
    },
    "kernelspec": {
      "name": "python3",
      "display_name": "Python 3"
    },
    "language_info": {
      "name": "python"
    }
  },
  "cells": [
    {
      "cell_type": "markdown",
      "metadata": {
        "id": "view-in-github",
        "colab_type": "text"
      },
      "source": [
        "<a href=\"https://colab.research.google.com/github/Zimbocu/Neural-Networks/blob/main/Neural_Networks_with_Sequential_and_Functional_API.ipynb\" target=\"_parent\"><img src=\"https://colab.research.google.com/assets/colab-badge.svg\" alt=\"Open In Colab\"/></a>"
      ]
    },
    {
      "cell_type": "code",
      "execution_count": null,
      "metadata": {
        "id": "HkIPgc72xPeY",
        "colab": {
          "base_uri": "https://localhost:8080/",
          "height": 485
        },
        "outputId": "2cf6d993-c350-4335-e91a-c7d48ae98e0a"
      },
      "outputs": [
        {
          "output_type": "stream",
          "name": "stdout",
          "text": [
            "Downloading data from https://storage.googleapis.com/tensorflow/tf-keras-datasets/mnist.npz\n",
            "\u001b[1m11490434/11490434\u001b[0m \u001b[32m━━━━━━━━━━━━━━━━━━━━\u001b[0m\u001b[37m\u001b[0m \u001b[1m0s\u001b[0m 0us/step\n"
          ]
        },
        {
          "output_type": "display_data",
          "data": {
            "text/plain": [
              "\u001b[1mModel: \"sequential\"\u001b[0m\n"
            ],
            "text/html": [
              "<pre style=\"white-space:pre;overflow-x:auto;line-height:normal;font-family:Menlo,'DejaVu Sans Mono',consolas,'Courier New',monospace\"><span style=\"font-weight: bold\">Model: \"sequential\"</span>\n",
              "</pre>\n"
            ]
          },
          "metadata": {}
        },
        {
          "output_type": "display_data",
          "data": {
            "text/plain": [
              "┏━━━━━━━━━━━━━━━━━━━━━━━━━━━━━━━━━┳━━━━━━━━━━━━━━━━━━━━━━━━┳━━━━━━━━━━━━━━━┓\n",
              "┃\u001b[1m \u001b[0m\u001b[1mLayer (type)                   \u001b[0m\u001b[1m \u001b[0m┃\u001b[1m \u001b[0m\u001b[1mOutput Shape          \u001b[0m\u001b[1m \u001b[0m┃\u001b[1m \u001b[0m\u001b[1m      Param #\u001b[0m\u001b[1m \u001b[0m┃\n",
              "┡━━━━━━━━━━━━━━━━━━━━━━━━━━━━━━━━━╇━━━━━━━━━━━━━━━━━━━━━━━━╇━━━━━━━━━━━━━━━┩\n",
              "│ first_layer (\u001b[38;5;33mDense\u001b[0m)             │ (\u001b[38;5;45mNone\u001b[0m, \u001b[38;5;34m512\u001b[0m)            │       \u001b[38;5;34m401,920\u001b[0m │\n",
              "├─────────────────────────────────┼────────────────────────┼───────────────┤\n",
              "│ second_layer (\u001b[38;5;33mDense\u001b[0m)            │ (\u001b[38;5;45mNone\u001b[0m, \u001b[38;5;34m256\u001b[0m)            │       \u001b[38;5;34m131,328\u001b[0m │\n",
              "├─────────────────────────────────┼────────────────────────┼───────────────┤\n",
              "│ dense (\u001b[38;5;33mDense\u001b[0m)                   │ (\u001b[38;5;45mNone\u001b[0m, \u001b[38;5;34m10\u001b[0m)             │         \u001b[38;5;34m2,570\u001b[0m │\n",
              "└─────────────────────────────────┴────────────────────────┴───────────────┘\n"
            ],
            "text/html": [
              "<pre style=\"white-space:pre;overflow-x:auto;line-height:normal;font-family:Menlo,'DejaVu Sans Mono',consolas,'Courier New',monospace\">┏━━━━━━━━━━━━━━━━━━━━━━━━━━━━━━━━━┳━━━━━━━━━━━━━━━━━━━━━━━━┳━━━━━━━━━━━━━━━┓\n",
              "┃<span style=\"font-weight: bold\"> Layer (type)                    </span>┃<span style=\"font-weight: bold\"> Output Shape           </span>┃<span style=\"font-weight: bold\">       Param # </span>┃\n",
              "┡━━━━━━━━━━━━━━━━━━━━━━━━━━━━━━━━━╇━━━━━━━━━━━━━━━━━━━━━━━━╇━━━━━━━━━━━━━━━┩\n",
              "│ first_layer (<span style=\"color: #0087ff; text-decoration-color: #0087ff\">Dense</span>)             │ (<span style=\"color: #00d7ff; text-decoration-color: #00d7ff\">None</span>, <span style=\"color: #00af00; text-decoration-color: #00af00\">512</span>)            │       <span style=\"color: #00af00; text-decoration-color: #00af00\">401,920</span> │\n",
              "├─────────────────────────────────┼────────────────────────┼───────────────┤\n",
              "│ second_layer (<span style=\"color: #0087ff; text-decoration-color: #0087ff\">Dense</span>)            │ (<span style=\"color: #00d7ff; text-decoration-color: #00d7ff\">None</span>, <span style=\"color: #00af00; text-decoration-color: #00af00\">256</span>)            │       <span style=\"color: #00af00; text-decoration-color: #00af00\">131,328</span> │\n",
              "├─────────────────────────────────┼────────────────────────┼───────────────┤\n",
              "│ dense (<span style=\"color: #0087ff; text-decoration-color: #0087ff\">Dense</span>)                   │ (<span style=\"color: #00d7ff; text-decoration-color: #00d7ff\">None</span>, <span style=\"color: #00af00; text-decoration-color: #00af00\">10</span>)             │         <span style=\"color: #00af00; text-decoration-color: #00af00\">2,570</span> │\n",
              "└─────────────────────────────────┴────────────────────────┴───────────────┘\n",
              "</pre>\n"
            ]
          },
          "metadata": {}
        },
        {
          "output_type": "display_data",
          "data": {
            "text/plain": [
              "\u001b[1m Total params: \u001b[0m\u001b[38;5;34m535,818\u001b[0m (2.04 MB)\n"
            ],
            "text/html": [
              "<pre style=\"white-space:pre;overflow-x:auto;line-height:normal;font-family:Menlo,'DejaVu Sans Mono',consolas,'Courier New',monospace\"><span style=\"font-weight: bold\"> Total params: </span><span style=\"color: #00af00; text-decoration-color: #00af00\">535,818</span> (2.04 MB)\n",
              "</pre>\n"
            ]
          },
          "metadata": {}
        },
        {
          "output_type": "display_data",
          "data": {
            "text/plain": [
              "\u001b[1m Trainable params: \u001b[0m\u001b[38;5;34m535,818\u001b[0m (2.04 MB)\n"
            ],
            "text/html": [
              "<pre style=\"white-space:pre;overflow-x:auto;line-height:normal;font-family:Menlo,'DejaVu Sans Mono',consolas,'Courier New',monospace\"><span style=\"font-weight: bold\"> Trainable params: </span><span style=\"color: #00af00; text-decoration-color: #00af00\">535,818</span> (2.04 MB)\n",
              "</pre>\n"
            ]
          },
          "metadata": {}
        },
        {
          "output_type": "display_data",
          "data": {
            "text/plain": [
              "\u001b[1m Non-trainable params: \u001b[0m\u001b[38;5;34m0\u001b[0m (0.00 B)\n"
            ],
            "text/html": [
              "<pre style=\"white-space:pre;overflow-x:auto;line-height:normal;font-family:Menlo,'DejaVu Sans Mono',consolas,'Courier New',monospace\"><span style=\"font-weight: bold\"> Non-trainable params: </span><span style=\"color: #00af00; text-decoration-color: #00af00\">0</span> (0.00 B)\n",
              "</pre>\n"
            ]
          },
          "metadata": {}
        },
        {
          "output_type": "stream",
          "name": "stdout",
          "text": [
            "None\n",
            "Epoch 1/5\n",
            "1875/1875 - 14s - 7ms/step - accuracy: 0.9440 - loss: 0.1856\n",
            "Epoch 2/5\n",
            "1875/1875 - 20s - 11ms/step - accuracy: 0.9752 - loss: 0.0805\n",
            "Epoch 3/5\n",
            "1875/1875 - 22s - 12ms/step - accuracy: 0.9822 - loss: 0.0551\n",
            "Epoch 4/5\n",
            "1875/1875 - 12s - 6ms/step - accuracy: 0.9868 - loss: 0.0400\n",
            "Epoch 5/5\n",
            "1875/1875 - 21s - 11ms/step - accuracy: 0.9895 - loss: 0.0316\n",
            "313/313 - 1s - 4ms/step - accuracy: 0.9824 - loss: 0.0680\n"
          ]
        },
        {
          "output_type": "execute_result",
          "data": {
            "text/plain": [
              "[0.06795253604650497, 0.9824000000953674]"
            ]
          },
          "metadata": {},
          "execution_count": 1
        }
      ],
      "source": [
        "#imports\n",
        "import tensorflow as tf\n",
        "from tensorflow import keras\n",
        "from tensorflow.keras import layers\n",
        "from tensorflow.keras.datasets import mnist\n",
        "\n",
        "(x_train, y_train), (x_test, y_test) = mnist.load_data()\n",
        "x_train = x_train.reshape(-1, 28*28).astype(\"float32\") / 255.0\n",
        "x_test = x_test.reshape(-1, 28*28).astype(\"float32\") / 255.0\n",
        "\n",
        "#sequential API\n",
        "\n",
        "input_shape = (28*28,) # Calculate the input shape\n",
        "\n",
        "model = keras.Sequential(\n",
        "    [\n",
        "        keras.Input(shape=input_shape), # Use the calculated shape\n",
        "        layers.Dense(512, activation=\"relu\", name='first_layer'),\n",
        "        layers.Dense(256, activation=\"relu\", name='second_layer'),\n",
        "        layers.Dense(10),\n",
        "    ]\n",
        " )\n",
        "\n",
        "\n",
        "print(model.summary())\n",
        "model.compile(\n",
        "    loss=keras.losses.SparseCategoricalCrossentropy(from_logits=True),\n",
        "    optimizer=keras.optimizers.Adam(learning_rate=0.001),\n",
        "    metrics=[\"accuracy\"],\n",
        ")\n",
        "\n",
        "model.fit(x_train, y_train, batch_size=32, epochs=5, verbose=2)\n",
        "model.evaluate(x_test, y_test, batch_size=32, verbose=2)"
      ]
    },
    {
      "cell_type": "code",
      "metadata": {
        "colab": {
          "base_uri": "https://localhost:8080/"
        },
        "id": "5c45d645",
        "outputId": "7ce980d0-a1c1-461f-815b-230e1275c873"
      },
      "source": [
        "# Experiment with SGD optimizer and a different learning rate\n",
        "\n",
        "model_sgd = keras.Sequential(\n",
        "    [\n",
        "        keras.Input(shape=input_shape),\n",
        "        layers.Dense(512, activation=\"relu\", name='first_layer'),\n",
        "        layers.Dense(256, activation=\"relu\", name='second_layer'),\n",
        "        layers.Dense(10),\n",
        "    ]\n",
        " )\n",
        "\n",
        "model_sgd.compile(\n",
        "    loss=keras.losses.SparseCategoricalCrossentropy(from_logits=True),\n",
        "    optimizer=keras.optimizers.SGD(learning_rate=0.01), # Using SGD with learning rate 0.01\n",
        "    metrics=[\"accuracy\"],\n",
        ")\n",
        "\n",
        "print(\"Training with SGD optimizer (learning_rate=0.01):\")\n",
        "model_sgd.fit(x_train, y_train, batch_size=32, epochs=5, verbose=2)\n",
        "print(\"Evaluating with SGD optimizer (learning_rate=0.01):\")\n",
        "model_sgd.evaluate(x_test, y_test, batch_size=32, verbose=2)"
      ],
      "execution_count": null,
      "outputs": [
        {
          "output_type": "stream",
          "name": "stdout",
          "text": [
            "Training with SGD optimizer (learning_rate=0.01):\n",
            "Epoch 1/5\n",
            "1875/1875 - 8s - 4ms/step - accuracy: 0.8537 - loss: 0.5695\n",
            "Epoch 2/5\n",
            "1875/1875 - 10s - 5ms/step - accuracy: 0.9215 - loss: 0.2751\n",
            "Epoch 3/5\n",
            "1875/1875 - 8s - 4ms/step - accuracy: 0.9368 - loss: 0.2229\n",
            "Epoch 4/5\n",
            "1875/1875 - 10s - 5ms/step - accuracy: 0.9465 - loss: 0.1879\n",
            "Epoch 5/5\n",
            "1875/1875 - 7s - 4ms/step - accuracy: 0.9541 - loss: 0.1629\n",
            "Evaluating with SGD optimizer (learning_rate=0.01):\n",
            "313/313 - 1s - 3ms/step - accuracy: 0.9559 - loss: 0.1534\n"
          ]
        },
        {
          "output_type": "execute_result",
          "data": {
            "text/plain": [
              "[0.15341965854167938, 0.9559000134468079]"
            ]
          },
          "metadata": {},
          "execution_count": 2
        }
      ]
    },
    {
      "cell_type": "code",
      "metadata": {
        "colab": {
          "base_uri": "https://localhost:8080/"
        },
        "id": "ea4297d7",
        "outputId": "317e3656-78f2-4e6b-9d43-af721f1be6d3"
      },
      "source": [
        "# Experiment with Adagrad optimizer and a different learning rate\n",
        "\n",
        "model_adagrad = keras.Sequential(\n",
        "    [\n",
        "        keras.Input(shape=input_shape),\n",
        "        layers.Dense(512, activation=\"relu\", name='first_layer'),\n",
        "        layers.Dense(256, activation=\"relu\", name='second_layer'),\n",
        "        layers.Dense(10),\n",
        "    ]\n",
        " )\n",
        "\n",
        "model_adagrad.compile(\n",
        "    loss=keras.losses.SparseCategoricalCrossentropy(from_logits=True),\n",
        "    optimizer=keras.optimizers.Adagrad(learning_rate=0.01), # Using Adagrad with learning rate 0.01\n",
        "    metrics=[\"accuracy\"],\n",
        ")\n",
        "\n",
        "print(\"Training with Adagrad optimizer (learning_rate=0.01):\")\n",
        "model_adagrad.fit(x_train, y_train, batch_size=32, epochs=5, verbose=2)\n",
        "print(\"Evaluating with Adagrad optimizer (learning_rate=0.01):\")\n",
        "model_adagrad.evaluate(x_test, y_test, batch_size=32, verbose=2)"
      ],
      "execution_count": null,
      "outputs": [
        {
          "output_type": "stream",
          "name": "stdout",
          "text": [
            "Training with Adagrad optimizer (learning_rate=0.01):\n",
            "Epoch 1/5\n",
            "1875/1875 - 11s - 6ms/step - accuracy: 0.9019 - loss: 0.3622\n",
            "Epoch 2/5\n",
            "1875/1875 - 11s - 6ms/step - accuracy: 0.9490 - loss: 0.1804\n",
            "Epoch 3/5\n",
            "1875/1875 - 10s - 5ms/step - accuracy: 0.9612 - loss: 0.1353\n",
            "Epoch 4/5\n",
            "1875/1875 - 10s - 5ms/step - accuracy: 0.9690 - loss: 0.1083\n",
            "Epoch 5/5\n",
            "1875/1875 - 19s - 10ms/step - accuracy: 0.9749 - loss: 0.0896\n",
            "Evaluating with Adagrad optimizer (learning_rate=0.01):\n",
            "313/313 - 1s - 4ms/step - accuracy: 0.9694 - loss: 0.1003\n"
          ]
        },
        {
          "output_type": "execute_result",
          "data": {
            "text/plain": [
              "[0.10029336810112, 0.9693999886512756]"
            ]
          },
          "metadata": {},
          "execution_count": 3
        }
      ]
    },
    {
      "cell_type": "code",
      "metadata": {
        "colab": {
          "base_uri": "https://localhost:8080/",
          "height": 501
        },
        "id": "c947f453",
        "outputId": "05847c44-f680-4de3-9e51-ac9c54c3e258"
      },
      "source": [
        "# Experiment with RMSprop optimizer and a different learning rate\n",
        "\n",
        "model_rmsprop = keras.Sequential(\n",
        "    [\n",
        "        keras.Input(shape=input_shape),\n",
        "        layers.Dense(512, activation=\"relu\", name='first_layer'),\n",
        "        layers.Dense(256, activation=\"relu\", name='second_layer'),\n",
        "        layers.Dense(10),\n",
        "    ]\n",
        " )\n",
        "\n",
        "print(model.summary())\n",
        "model.compile(\n",
        "    loss=keras.losses.SparseCategoricalCrossentropy(from_logits=True),\n",
        "    optimizer=keras.optimizers.Adam(learning_rate=0.001),\n",
        "    metrics=[\"accuracy\"],\n",
        ") # Added the missing closing parenthesis here\n",
        "\n",
        "\n",
        "model_rmsprop.compile(\n",
        "    loss=keras.losses.SparseCategoricalCrossentropy(from_logits=True),\n",
        "    optimizer=keras.optimizers.RMSprop(learning_rate=0.001), # Using RMSprop with learning rate 0.001\n",
        "    metrics=[\"accuracy\"],\n",
        ")\n",
        "\n",
        "print(\"Training with RMSprop optimizer (learning_rate=0.001):\")\n",
        "model_rmsprop.fit(x_train, y_train, batch_size=32, epochs=5, verbose=2)\n",
        "print(\"Evaluating with RMSprop optimizer (learning_rate=0.001):\")\n",
        "model_rmsprop.evaluate(x_test, y_test, batch_size=32, verbose=2)"
      ],
      "execution_count": null,
      "outputs": [
        {
          "output_type": "display_data",
          "data": {
            "text/plain": [
              "\u001b[1mModel: \"sequential\"\u001b[0m\n"
            ],
            "text/html": [
              "<pre style=\"white-space:pre;overflow-x:auto;line-height:normal;font-family:Menlo,'DejaVu Sans Mono',consolas,'Courier New',monospace\"><span style=\"font-weight: bold\">Model: \"sequential\"</span>\n",
              "</pre>\n"
            ]
          },
          "metadata": {}
        },
        {
          "output_type": "display_data",
          "data": {
            "text/plain": [
              "┏━━━━━━━━━━━━━━━━━━━━━━━━━━━━━━━━━┳━━━━━━━━━━━━━━━━━━━━━━━━┳━━━━━━━━━━━━━━━┓\n",
              "┃\u001b[1m \u001b[0m\u001b[1mLayer (type)                   \u001b[0m\u001b[1m \u001b[0m┃\u001b[1m \u001b[0m\u001b[1mOutput Shape          \u001b[0m\u001b[1m \u001b[0m┃\u001b[1m \u001b[0m\u001b[1m      Param #\u001b[0m\u001b[1m \u001b[0m┃\n",
              "┡━━━━━━━━━━━━━━━━━━━━━━━━━━━━━━━━━╇━━━━━━━━━━━━━━━━━━━━━━━━╇━━━━━━━━━━━━━━━┩\n",
              "│ first_layer (\u001b[38;5;33mDense\u001b[0m)             │ (\u001b[38;5;45mNone\u001b[0m, \u001b[38;5;34m512\u001b[0m)            │       \u001b[38;5;34m401,920\u001b[0m │\n",
              "├─────────────────────────────────┼────────────────────────┼───────────────┤\n",
              "│ second_layer (\u001b[38;5;33mDense\u001b[0m)            │ (\u001b[38;5;45mNone\u001b[0m, \u001b[38;5;34m256\u001b[0m)            │       \u001b[38;5;34m131,328\u001b[0m │\n",
              "├─────────────────────────────────┼────────────────────────┼───────────────┤\n",
              "│ dense (\u001b[38;5;33mDense\u001b[0m)                   │ (\u001b[38;5;45mNone\u001b[0m, \u001b[38;5;34m10\u001b[0m)             │         \u001b[38;5;34m2,570\u001b[0m │\n",
              "└─────────────────────────────────┴────────────────────────┴───────────────┘\n"
            ],
            "text/html": [
              "<pre style=\"white-space:pre;overflow-x:auto;line-height:normal;font-family:Menlo,'DejaVu Sans Mono',consolas,'Courier New',monospace\">┏━━━━━━━━━━━━━━━━━━━━━━━━━━━━━━━━━┳━━━━━━━━━━━━━━━━━━━━━━━━┳━━━━━━━━━━━━━━━┓\n",
              "┃<span style=\"font-weight: bold\"> Layer (type)                    </span>┃<span style=\"font-weight: bold\"> Output Shape           </span>┃<span style=\"font-weight: bold\">       Param # </span>┃\n",
              "┡━━━━━━━━━━━━━━━━━━━━━━━━━━━━━━━━━╇━━━━━━━━━━━━━━━━━━━━━━━━╇━━━━━━━━━━━━━━━┩\n",
              "│ first_layer (<span style=\"color: #0087ff; text-decoration-color: #0087ff\">Dense</span>)             │ (<span style=\"color: #00d7ff; text-decoration-color: #00d7ff\">None</span>, <span style=\"color: #00af00; text-decoration-color: #00af00\">512</span>)            │       <span style=\"color: #00af00; text-decoration-color: #00af00\">401,920</span> │\n",
              "├─────────────────────────────────┼────────────────────────┼───────────────┤\n",
              "│ second_layer (<span style=\"color: #0087ff; text-decoration-color: #0087ff\">Dense</span>)            │ (<span style=\"color: #00d7ff; text-decoration-color: #00d7ff\">None</span>, <span style=\"color: #00af00; text-decoration-color: #00af00\">256</span>)            │       <span style=\"color: #00af00; text-decoration-color: #00af00\">131,328</span> │\n",
              "├─────────────────────────────────┼────────────────────────┼───────────────┤\n",
              "│ dense (<span style=\"color: #0087ff; text-decoration-color: #0087ff\">Dense</span>)                   │ (<span style=\"color: #00d7ff; text-decoration-color: #00d7ff\">None</span>, <span style=\"color: #00af00; text-decoration-color: #00af00\">10</span>)             │         <span style=\"color: #00af00; text-decoration-color: #00af00\">2,570</span> │\n",
              "└─────────────────────────────────┴────────────────────────┴───────────────┘\n",
              "</pre>\n"
            ]
          },
          "metadata": {}
        },
        {
          "output_type": "display_data",
          "data": {
            "text/plain": [
              "\u001b[1m Total params: \u001b[0m\u001b[38;5;34m1,607,456\u001b[0m (6.13 MB)\n"
            ],
            "text/html": [
              "<pre style=\"white-space:pre;overflow-x:auto;line-height:normal;font-family:Menlo,'DejaVu Sans Mono',consolas,'Courier New',monospace\"><span style=\"font-weight: bold\"> Total params: </span><span style=\"color: #00af00; text-decoration-color: #00af00\">1,607,456</span> (6.13 MB)\n",
              "</pre>\n"
            ]
          },
          "metadata": {}
        },
        {
          "output_type": "display_data",
          "data": {
            "text/plain": [
              "\u001b[1m Trainable params: \u001b[0m\u001b[38;5;34m535,818\u001b[0m (2.04 MB)\n"
            ],
            "text/html": [
              "<pre style=\"white-space:pre;overflow-x:auto;line-height:normal;font-family:Menlo,'DejaVu Sans Mono',consolas,'Courier New',monospace\"><span style=\"font-weight: bold\"> Trainable params: </span><span style=\"color: #00af00; text-decoration-color: #00af00\">535,818</span> (2.04 MB)\n",
              "</pre>\n"
            ]
          },
          "metadata": {}
        },
        {
          "output_type": "display_data",
          "data": {
            "text/plain": [
              "\u001b[1m Non-trainable params: \u001b[0m\u001b[38;5;34m0\u001b[0m (0.00 B)\n"
            ],
            "text/html": [
              "<pre style=\"white-space:pre;overflow-x:auto;line-height:normal;font-family:Menlo,'DejaVu Sans Mono',consolas,'Courier New',monospace\"><span style=\"font-weight: bold\"> Non-trainable params: </span><span style=\"color: #00af00; text-decoration-color: #00af00\">0</span> (0.00 B)\n",
              "</pre>\n"
            ]
          },
          "metadata": {}
        },
        {
          "output_type": "display_data",
          "data": {
            "text/plain": [
              "\u001b[1m Optimizer params: \u001b[0m\u001b[38;5;34m1,071,638\u001b[0m (4.09 MB)\n"
            ],
            "text/html": [
              "<pre style=\"white-space:pre;overflow-x:auto;line-height:normal;font-family:Menlo,'DejaVu Sans Mono',consolas,'Courier New',monospace\"><span style=\"font-weight: bold\"> Optimizer params: </span><span style=\"color: #00af00; text-decoration-color: #00af00\">1,071,638</span> (4.09 MB)\n",
              "</pre>\n"
            ]
          },
          "metadata": {}
        },
        {
          "output_type": "stream",
          "name": "stdout",
          "text": [
            "None\n",
            "Training with RMSprop optimizer (learning_rate=0.001):\n",
            "Epoch 1/5\n",
            "1875/1875 - 12s - 6ms/step - accuracy: 0.9435 - loss: 0.1884\n",
            "Epoch 2/5\n",
            "1875/1875 - 21s - 11ms/step - accuracy: 0.9758 - loss: 0.0833\n",
            "Epoch 3/5\n",
            "1875/1875 - 11s - 6ms/step - accuracy: 0.9822 - loss: 0.0623\n",
            "Epoch 4/5\n",
            "1875/1875 - 20s - 11ms/step - accuracy: 0.9863 - loss: 0.0483\n",
            "Epoch 5/5\n",
            "1875/1875 - 11s - 6ms/step - accuracy: 0.9893 - loss: 0.0394\n",
            "Evaluating with RMSprop optimizer (learning_rate=0.001):\n",
            "313/313 - 1s - 3ms/step - accuracy: 0.9828 - loss: 0.0785\n"
          ]
        },
        {
          "output_type": "execute_result",
          "data": {
            "text/plain": [
              "[0.07854744046926498, 0.9828000068664551]"
            ]
          },
          "metadata": {},
          "execution_count": 7
        }
      ]
    },
    {
      "cell_type": "code",
      "metadata": {
        "colab": {
          "base_uri": "https://localhost:8080/"
        },
        "id": "f9d76225",
        "outputId": "fb300ba7-e597-4dd8-cd50-573f0bd65695"
      },
      "source": [
        "# Create a new sequential model with an additional hidden layer\n",
        "model_more_layers = keras.Sequential(\n",
        "    [\n",
        "        keras.Input(shape=input_shape),\n",
        "        layers.Dense(512, activation=\"relu\", name='first_layer'),\n",
        "        layers.Dense(256, activation=\"relu\", name='second_layer'),\n",
        "        layers.Dense(128, activation=\"relu\", name='third_layer'), # Added a new layer\n",
        "        layers.Dense(10),\n",
        "    ]\n",
        " )\n",
        "\n",
        "# Compile the new model using RMSprop with learning_rate=0.001\n",
        "model_more_layers.compile(\n",
        "    loss=keras.losses.SparseCategoricalCrossentropy(from_logits=True),\n",
        "    optimizer=keras.optimizers.RMSprop(learning_rate=0.001),\n",
        "    metrics=[\"accuracy\"],\n",
        ")\n",
        "\n",
        "print(\"Training model with an additional hidden layer:\")\n",
        "model_more_layers.fit(x_train, y_train, batch_size=32, epochs=5, verbose=2)\n",
        "print(\"Evaluating model with an additional hidden layer:\")\n",
        "model_more_layers.evaluate(x_test, y_test, batch_size=32, verbose=2)"
      ],
      "execution_count": null,
      "outputs": [
        {
          "output_type": "stream",
          "name": "stdout",
          "text": [
            "Training model with an additional hidden layer:\n",
            "Epoch 1/5\n",
            "1875/1875 - 12s - 6ms/step - accuracy: 0.9384 - loss: 0.2052\n",
            "Epoch 2/5\n",
            "1875/1875 - 21s - 11ms/step - accuracy: 0.9730 - loss: 0.0942\n",
            "Epoch 3/5\n",
            "1875/1875 - 20s - 11ms/step - accuracy: 0.9798 - loss: 0.0747\n",
            "Epoch 4/5\n",
            "1875/1875 - 12s - 6ms/step - accuracy: 0.9841 - loss: 0.0619\n",
            "Epoch 5/5\n",
            "1875/1875 - 12s - 6ms/step - accuracy: 0.9863 - loss: 0.0549\n",
            "Evaluating model with an additional hidden layer:\n",
            "313/313 - 1s - 4ms/step - accuracy: 0.9794 - loss: 0.0995\n"
          ]
        },
        {
          "output_type": "execute_result",
          "data": {
            "text/plain": [
              "[0.09948638826608658, 0.9793999791145325]"
            ]
          },
          "metadata": {},
          "execution_count": 5
        }
      ]
    }
  ]
}
