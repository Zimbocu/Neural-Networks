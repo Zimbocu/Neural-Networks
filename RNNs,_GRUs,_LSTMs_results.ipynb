{
  "cells": [
    {
      "cell_type": "code",
      "execution_count": null,
      "metadata": {
        "colab": {
          "base_uri": "https://localhost:8080/"
        },
        "id": "N7tUo2VqZQsd",
        "outputId": "04f14c03-7723-45c9-b18c-7d679c6a1bfd"
      },
      "outputs": [
        {
          "name": "stdout",
          "output_type": "stream",
          "text": [
            "Epoch 1/10\n",
            "938/938 - 82s - 88ms/step - accuracy: 0.9023 - loss: 0.3064\n",
            "Epoch 2/10\n",
            "938/938 - 84s - 89ms/step - accuracy: 0.9628 - loss: 0.1296\n",
            "Epoch 3/10\n",
            "938/938 - 82s - 87ms/step - accuracy: 0.9722 - loss: 0.1009\n",
            "Epoch 4/10\n",
            "938/938 - 81s - 87ms/step - accuracy: 0.9766 - loss: 0.0874\n",
            "Epoch 5/10\n",
            "938/938 - 80s - 86ms/step - accuracy: 0.9771 - loss: 0.0838\n",
            "Epoch 6/10\n",
            "938/938 - 81s - 86ms/step - accuracy: 0.9811 - loss: 0.0695\n",
            "Epoch 7/10\n",
            "938/938 - 82s - 88ms/step - accuracy: 0.9808 - loss: 0.0690\n",
            "Epoch 8/10\n",
            "938/938 - 81s - 87ms/step - accuracy: 0.9818 - loss: 0.0669\n",
            "Epoch 9/10\n",
            "938/938 - 81s - 86ms/step - accuracy: 0.9814 - loss: 0.0684\n",
            "Epoch 10/10\n",
            "938/938 - 82s - 88ms/step - accuracy: 0.9830 - loss: 0.0608\n",
            "157/157 - 4s - 25ms/step - accuracy: 0.9825 - loss: 0.0722\n"
          ]
        },
        {
          "data": {
            "text/plain": [
              "[0.07218914479017258, 0.9825000166893005]"
            ]
          },
          "execution_count": 4,
          "metadata": {},
          "output_type": "execute_result"
        }
      ],
      "source": [
        "import os\n",
        "os.environ['TF_CPP_MIN_LOG_LEVEL'] = '2'\n",
        "\n",
        "import tensorflow as tf\n",
        "from tensorflow import keras\n",
        "from tensorflow.keras import layers\n",
        "from tensorflow.keras.datasets import mnist\n",
        "\n",
        "(x_train, y_train), (x_test, y_test) = mnist.load_data()\n",
        "\n",
        "x_train = x_train.astype(\"float32\") / 255.0\n",
        "x_test = x_test.astype(\"float32\") / 255.0\n",
        "\n",
        "model=keras.Sequential()\n",
        "model.add(keras.Input(shape=(None, 28)))\n",
        "model.add(layers.SimpleRNN(256, return_sequences=True, activation=\"relu\"))\n",
        "model.add(layers.SimpleRNN(256, activation=\"relu\"))\n",
        "model.add(layers.Dense(10))\n",
        "\n",
        "model.compile(\n",
        "    loss=keras.losses.SparseCategoricalCrossentropy(from_logits=True),\n",
        "    optimizer=keras.optimizers.Adam(learning_rate=0.001),\n",
        "    metrics=[\"accuracy\"],\n",
        ")\n",
        "\n",
        "model.fit(x_train, y_train, batch_size=64, epochs=10, verbose=2)\n",
        "model.evaluate(x_test, y_test, batch_size=64, verbose=2)\n",
        "\n",
        "\n"
      ]
    },
    {
      "cell_type": "code",
      "execution_count": null,
      "metadata": {
        "colab": {
          "base_uri": "https://localhost:8080/"
        },
        "id": "Xes445Glc0kd",
        "outputId": "dd516e0d-ecc7-4b1e-fe8a-c152e374cf11"
      },
      "outputs": [
        {
          "name": "stdout",
          "output_type": "stream",
          "text": [
            "Epoch 1/10\n",
            "938/938 - 246s - 262ms/step - accuracy: 0.9076 - loss: 0.2786\n",
            "Epoch 2/10\n",
            "938/938 - 246s - 262ms/step - accuracy: 0.9782 - loss: 0.0702\n",
            "Epoch 3/10\n",
            "938/938 - 260s - 277ms/step - accuracy: 0.9851 - loss: 0.0478\n",
            "Epoch 4/10\n",
            "938/938 - 264s - 282ms/step - accuracy: 0.9887 - loss: 0.0365\n",
            "Epoch 5/10\n",
            "938/938 - 258s - 276ms/step - accuracy: 0.9906 - loss: 0.0302\n",
            "Epoch 6/10\n",
            "938/938 - 242s - 258ms/step - accuracy: 0.9913 - loss: 0.0271\n",
            "Epoch 7/10\n",
            "938/938 - 260s - 277ms/step - accuracy: 0.9936 - loss: 0.0203\n",
            "Epoch 8/10\n",
            "938/938 - 260s - 278ms/step - accuracy: 0.9936 - loss: 0.0193\n",
            "Epoch 9/10\n",
            "938/938 - 263s - 280ms/step - accuracy: 0.9949 - loss: 0.0165\n",
            "Epoch 10/10\n",
            "938/938 - 238s - 254ms/step - accuracy: 0.9954 - loss: 0.0141\n",
            "157/157 - 12s - 74ms/step - accuracy: 0.9895 - loss: 0.0347\n"
          ]
        },
        {
          "data": {
            "text/plain": [
              "[0.03469128534197807, 0.9894999861717224]"
            ]
          },
          "execution_count": 5,
          "metadata": {},
          "output_type": "execute_result"
        }
      ],
      "source": [
        "import os\n",
        "os.environ['TF_CPP_MIN_LOG_LEVEL'] = '2'\n",
        "\n",
        "import tensorflow as tf\n",
        "from tensorflow import keras\n",
        "from tensorflow.keras import layers\n",
        "from tensorflow.keras.datasets import mnist\n",
        "\n",
        "(x_train, y_train), (x_test, y_test) = mnist.load_data()\n",
        "\n",
        "x_train = x_train.astype(\"float32\") / 255.0\n",
        "x_test = x_test.astype(\"float32\") / 255.0\n",
        "\n",
        "model=keras.Sequential()\n",
        "model.add(keras.Input(shape=(None, 28)))\n",
        "model.add(layers.GRU(256, return_sequences=True, activation=\"tanh\"))\n",
        "model.add(layers.GRU(256, activation=\"tanh\"))\n",
        "model.add(layers.Dense(10))\n",
        "\n",
        "model.compile(\n",
        "    loss=keras.losses.SparseCategoricalCrossentropy(from_logits=True),\n",
        "    optimizer=keras.optimizers.Adam(learning_rate=0.001),\n",
        "    metrics=[\"accuracy\"],\n",
        ")\n",
        "\n",
        "model.fit(x_train, y_train, batch_size=64, epochs=10, verbose=2)\n",
        "model.evaluate(x_test, y_test, batch_size=64, verbose=2)\n"
      ]
    },
    {
      "cell_type": "code",
      "execution_count": null,
      "metadata": {
        "colab": {
          "background_save": true,
          "base_uri": "https://localhost:8080/"
        },
        "id": "ycRu-tsCdp4t",
        "outputId": "b9d4f21a-def2-4365-9ee6-1a20127162bb"
      },
      "outputs": [
        {
          "name": "stdout",
          "output_type": "stream",
          "text": [
            "Epoch 1/10\n",
            "938/938 - 278s - 296ms/step - accuracy: 0.9033 - loss: 0.2941\n",
            "Epoch 2/10\n",
            "938/938 - 322s - 344ms/step - accuracy: 0.9744 - loss: 0.0825\n",
            "Epoch 3/10\n",
            "938/938 - 275s - 294ms/step - accuracy: 0.9817 - loss: 0.0580\n",
            "Epoch 4/10\n",
            "938/938 - 321s - 343ms/step - accuracy: 0.9859 - loss: 0.0450\n",
            "Epoch 5/10\n",
            "938/938 - 274s - 293ms/step - accuracy: 0.9889 - loss: 0.0363\n",
            "Epoch 6/10\n",
            "938/938 - 320s - 341ms/step - accuracy: 0.9899 - loss: 0.0318\n",
            "Epoch 7/10\n",
            "938/938 - 326s - 347ms/step - accuracy: 0.9911 - loss: 0.0283\n",
            "Epoch 8/10\n",
            "938/938 - 318s - 339ms/step - accuracy: 0.9926 - loss: 0.0248\n",
            "Epoch 9/10\n",
            "938/938 - 326s - 348ms/step - accuracy: 0.9934 - loss: 0.0204\n",
            "Epoch 10/10\n",
            "938/938 - 274s - 292ms/step - accuracy: 0.9938 - loss: 0.0197\n",
            "157/157 - 15s - 95ms/step - accuracy: 0.9907 - loss: 0.0361\n"
          ]
        },
        {
          "data": {
            "text/plain": [
              "[0.03610125556588173, 0.9907000064849854]"
            ]
          },
          "execution_count": 6,
          "metadata": {},
          "output_type": "execute_result"
        }
      ],
      "source": [
        "import os\n",
        "os.environ['TF_CPP_MIN_LOG_LEVEL'] = '2'\n",
        "\n",
        "import tensorflow as tf\n",
        "from tensorflow import keras\n",
        "from tensorflow.keras import layers\n",
        "from tensorflow.keras.datasets import mnist\n",
        "\n",
        "(x_train, y_train), (x_test, y_test) = mnist.load_data()\n",
        "\n",
        "x_train = x_train.astype(\"float32\") / 255.0\n",
        "x_test = x_test.astype(\"float32\") / 255.0\n",
        "\n",
        "model=keras.Sequential()\n",
        "model.add(keras.Input(shape=(None, 28)))\n",
        "model.add(layers.LSTM(256, return_sequences=True, activation=\"tanh\"))\n",
        "model.add(layers.LSTM(256, activation=\"tanh\"))\n",
        "model.add(layers.Dense(10))\n",
        "\n",
        "model.compile(\n",
        "    loss=keras.losses.SparseCategoricalCrossentropy(from_logits=True),\n",
        "    optimizer=keras.optimizers.Adam(learning_rate=0.001),\n",
        "    metrics=[\"accuracy\"],\n",
        ")\n",
        "\n",
        "model.fit(x_train, y_train, batch_size=64, epochs=10, verbose=2)\n",
        "model.evaluate(x_test, y_test, batch_size=64, verbose=2)\n"
      ]
    }
  ],
  "metadata": {
    "colab": {
      "provenance": [],
      "authorship_tag": "ABX9TyMbrxIDgzxMjEpfgAPi4RBQ"
    },
    "kernelspec": {
      "display_name": "Python 3",
      "name": "python3"
    },
    "language_info": {
      "name": "python"
    }
  },
  "nbformat": 4,
  "nbformat_minor": 0
}